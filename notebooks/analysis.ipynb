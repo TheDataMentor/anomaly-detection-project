{
 "cells": [
  {
   "cell_type": "markdown",
   "metadata": {},
   "source": [
    "# Anomaly Detection Analysis\n",
    "\n",
    "This notebook demonstrates the process of anomaly detection using ARIMA forecasting residuals."
   ]
  },
  {
   "cell_type": "code",
   "execution_count": 1,
   "metadata": {},
   "outputs": [],
   "source": [
    "import pandas as pd\n",
    "import numpy as np\n",
    "import matplotlib.pyplot as plt\n",
    "from statsmodels.tsa.arima.model import ARIMA\n",
    "from statsmodels.graphics.tsaplots import plot_acf, plot_pacf\n",
    "from statsmodels.tsa.seasonal import seasonal_decompose\n",
    "import sys\n",
    "sys.path.append('..')\n",
    "from src.data_generation import generate_synthetic_data\n",
    "from src.anomaly_detection import detect_anomalies\n",
    "from src.visualization import plot_time_series_with_anomalies, plot_residuals_distribution\n",
    "\n",
    "%matplotlib inline"
   ]
  },
  {
   "cell_type": "markdown",
   "metadata": {},
   "source": [
    "## Generate and Explore Data"
   ]
  },
  {
   "cell_type": "code",
   "execution_count": 2,
   "metadata": {},
   "outputs": [],
   "source": [
    "# Generate synthetic data\n",
    "df = generate_synthetic_data()\n",
    "df.to_csv('../data/synthetic_data.csv', index=False)\n",
    "print(\"Synthetic data generated and saved to data/synthetic_data.csv\")\n",
    "\n",
    "# Display the first few rows and basic info about the dataset\n",
    "print(df.head())\n",
    "print(df.info())"
   ]
  },
  {
   "cell_type": "markdown",
   "metadata": {},
   "source": [
    "## Time Series Decomposition\n",
    "\n",
    "We'll decompose the time series to understand its components: trend, seasonality, and residuals."
   ]
  },
  {
   "cell_type": "code",
   "execution_count": 3,
   "metadata": {},
   "outputs": [],
   "source": [
    "# Aggregate data by date for decomposition\n",
    "df_agg = df.groupby('date')['value'].sum().reset_index()\n",
    "df_agg.set_index('date', inplace=True)\n",
    "\n",
    "# Perform time series decomposition\n",
    "result = seasonal_decompose(df_agg['value'], model='additive', period=365)\n",
    "result.plot()\n",
    "plt.tight_layout()\n",
    "plt.show()"
   ]
  },
  {
   "cell_type": "markdown",
   "metadata": {},
   "source": [
    "The decomposition shows:\n",
    "1. A clear upward trend in the data.\n",
    "2. A strong seasonal component with yearly cycles.\n",
    "3. Residuals that appear mostly random, but with some potential anomalies."
   ]
  },
  {
   "cell_type": "markdown",
   "metadata": {},
   "source": [
    "## ARIMA Modeling and Anomaly Detection"
   ]
  },
  {
   "cell_type": "code",
   "execution_count": 4,
   "metadata": {},
   "outputs": [],
   "source": [
    "# Perform anomaly detection\n",
    "df_with_anomalies = detect_anomalies(df_agg)\n",
    "print(f\"Detected {df_with_anomalies['anomaly'].sum()} anomalies\")\n",
    "\n",
    "# Plot the time series with detected anomalies\n",
    "plot_time_series_with_anomalies(df_with_anomalies)\n",
    "\n",
    "# Plot the distribution of residuals\n",
    "residuals = df_with_anomalies['value'] - df_with_anomalies['forecast']\n",
    "plot_residuals_distribution(residuals)"
   ]
  },
  {
   "cell_type": "markdown",
   "metadata": {},
   "source": [
    "## Interpretation of Results\n",
    "\n",
    "1. The anomaly detection algorithm identified several points that deviate significantly from the expected values.\n",
    "2. These anomalies could represent important events or issues in the data that warrant further investigation.\n",
    "3. The distribution of residuals appears to be roughly normal, with some outliers that correspond to the detected anomalies.\n",
    "\n",
    "Next steps could include:\n",
    "1. Investigating the specific dates and circumstances of the detected anomalies.\n",
    "2. Refining the ARIMA model parameters for potentially better forecasting.\n",
    "3. Applying this method to real-world data and validating the results with domain experts."
   ]
  }
 ],
 "metadata": {
  "kernelspec": {
   "display_name": "Python 3",
   "language": "python",
   "name": "python3"
  },
  "language_info": {
   "codemirror_mode": {
    "name": "ipython",
    "version": 3
   },
   "file_extension": ".py",
   "mimetype": "text/x-python",
   "name": "python",
   "nbconvert_exporter": "python",
   "pygments_lexer": "ipython3",
   "version": "3.8.5"
  }
 },
 "nbformat": 4,
 "nbformat_minor": 4
}
