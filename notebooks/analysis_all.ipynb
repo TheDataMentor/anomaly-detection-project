{
 "cells": [
  {
   "cell_type": "markdown",
   "metadata": {},
   "source": [
    "# Anomaly Detection Analysis\n",
    "\n",
    "This notebook demonstrates the process of anomaly detection using ARIMA forecasting residuals."
   ]
  },
  {
   "cell_type": "code",
   "execution_count": null,
   "metadata": {},
   "outputs": [],
   "source": [
    "import pandas as pd\n",
    "import numpy as np\n",
    "import matplotlib.pyplot as plt\n",
    "from statsmodels.tsa.arima.model import ARIMA\n",
    "from statsmodels.graphics.tsaplots import plot_acf, plot_pacf\n",
    "from statsmodels.tsa.seasonal import seasonal_decompose\n",
    "import sys\n",
    "sys.path.append('..')\n",
    "from src.data_generation import generate_synthetic_data\n",
    "from src.anomaly_detection import detect_anomalies\n",
    "from src.visualization import plot_time_series_with_anomalies, plot_residuals_distribution\n",
    "\n",
    "%matplotlib inline"
   ]
  },
  {
   "cell_type": "markdown",
   "metadata": {},
   "source": [
    "## Generate and Explore Data"
   ]
  },
  {
   "cell_type": "code",
   "execution_count": null,
   "metadata": {},
   "outputs": [],
   "source": [
    "# Generate synthetic data\n",
    "df = generate_synthetic_data()\n",
    "df.to_csv('../data/synthetic_data.csv', index=False)\n",
    "print(\"Synthetic data generated and saved to data/synthetic_data.csv\")\n",
    "\n",
    "# Display the first few rows and basic info about the dataset\n",
    "print(df.head())\n",
    "print(df.info())"
   ]
  },
  {
   "cell_type": "markdown",
   "metadata": {},
   "source": [
    "## Time Series Decomposition\n",
    "\n",
    "We'll decompose the time series to understand its components: trend, seasonality, and residuals."
   ]
  },
  {
   "cell_type": "code",
   "execution_count": null,
   "metadata": {},
   "outputs": [],
   "source": [
    "# Aggregate data by date for decomposition\n",
    "df_agg = df.groupby('date')['value'].sum().reset_index()\n",
    "df_agg.set_index('date', inplace=True)\n",
    "\n",
    "# Perform time series decomposition\n",
    "result = seasonal_decompose(df_agg['value'], model='additive', period=365)\n",
    "result.plot()\n",
    "plt.tight_layout()\n",
    "plt.show()"
   ]
  },
  {
   "cell_type": "markdown",
   "metadata": {},
   "source": [
    "The decomposition shows:\n",
    "1. A clear upward trend in the data.\n",
    "2. A strong seasonal component with yearly cycles.\n",
    "3. Residuals that appear mostly random, but with some potential anomalies."
   ]
  },
  {
   "cell_type": "markdown",
   "metadata": {},
   "source": [
    "## ARIMA Modeling and Anomaly Detection"
   ]
  },
  {
   "cell_type": "code",
   "execution_count": null,
   "metadata": {},
   "outputs": [],
   "source": [
    "# Perform anomaly detection\n",
    "df_with_anomalies = detect_anomalies(df_agg)\n",
    "print(f\"Detected {df_with_anomalies['anomaly'].sum()} anomalies\")\n",
    "\n",
    "# Plot the time series with detected anomalies\n",
    "plot_time_series_with_anomalies(df_with_anomalies)\n",
    "\n",
    "# Plot the distribution of residuals\n",
    "residuals = df_with_anomalies['value'] - df_with_anomalies['forecast']\n",
    "plot_residuals_distribution(residuals)"
   ]
  },
  {
   "cell_type": "markdown",
   "metadata": {},
   "source": [
    "## Interpretation of Results\n",
    "\n",
    "1. The anomaly detection algorithm identified several points that deviate significantly from the expected values.\n",
    "2. These anomalies could represent important events or issues in the data that warrant further investigation.\n",
    "3. The distribution of residuals appears to be roughly normal, with some outliers that correspond to the detected anomalies.\n",
    "\n",
    "Next steps could include:\n",
    "1. Investigating the specific dates and circumstances of the detected anomalies.\n",
    "2. Refining the ARIMA model parameters for potentially better forecasting.\n",
    "3. Applying this method to real-world data and validating the results with domain experts."
   ]
  },
  {
   "cell_type": "markdown",
   "metadata": {},
   "source": [
    "## Detailed Analysis of Detected Anomalies"
   ]
  },
  {
   "cell_type": "code",
   "execution_count": null,
   "metadata": {},
   "outputs": [],
   "source": [
    "# Get the dates of detected anomalies\n",
    "anomaly_dates = df_with_anomalies[df_with_anomalies['anomaly']].index\n",
    "\n",
    "print(\"Dates of detected anomalies:\")\n",
    "for date in anomaly_dates:\n",
    "    print(f\"- {date}\")\n",
    "\n",
    "# Calculate the percentage difference between actual and forecasted values for anomalies\n",
    "df_with_anomalies['percent_diff'] = (df_with_anomalies['value'] - df_with_anomalies['forecast']) / df_with_anomalies['forecast'] * 100\n",
    "\n",
    "print(\"\\nPercentage difference for anomalies:\")\n",
    "for date in anomaly_dates:\n",
    "    percent_diff = df_with_anomalies.loc[date, 'percent_diff']\n",
    "    print(f\"- {date}: {percent_diff:.2f}%\")\n",
    "\n",
    "# Visualize the anomalies in context\n",
    "plt.figure(figsize=(12, 6))\n",
    "plt.plot(df_with_anomalies.index, df_with_anomalies['value'], label='Actual')\n",
    "plt.plot(df_with_anomalies.index, df_with_anomalies['forecast'], label='Forecast')\n",
    "plt.scatter(anomaly_dates, df_with_anomalies.loc[anomaly_dates, 'value'], color='red', label='Anomalies')\n",
    "plt.title('Time Series with Detected Anomalies')\n",
    "plt.xlabel('Date')\n",
    "plt.ylabel('Value')\n",
    "plt.legend()\n",
    "plt.show()"
   ]
  },
  {
   "cell_type": "markdown",
   "metadata": {},
   "source": [
    "## Conclusion and Next Steps\n",
    "\n",
    "Based on our analysis:\n",
    "\n",
    "1. We successfully identified several anomalies in our synthetic dataset using ARIMA forecasting residuals.\n",
    "2. The detected anomalies represent significant deviations from the expected values, which could indicate important events or issues in a real-world scenario.\n",
    "3. The distribution of residuals is approximately normal, with the detected anomalies appearing as outliers.\n",
    "\n",
    "Next steps for improving and applying this analysis:\n",
    "\n",
    "1. Fine-tune the ARIMA model parameters to potentially improve forecasting accuracy.\n",
    "2. Experiment with different anomaly detection thresholds to balance sensitivity and specificity.\n",
    "3. Apply this method to real-world data and collaborate with domain experts to validate and interpret the results.\n",
    "4. Develop an automated alert system based on this anomaly detection method for real-time monitoring.\n",
    "5. Investigate machine learning-based anomaly detection methods (e.g., isolation forests, autoencoders) and compare their performance with this ARIMA-based approach.\n",
    "\n",
    "By following these steps, we can further refine our anomaly detection system and provide valuable insights for business decision-making and process optimization."
   ]
  }
 ],
 "metadata": {
  "kernelspec": {
   "display_name": "Python 3",
   "language": "python",
   "name": "python3"
  },
  "language_info": {
   "codemirror_mode": {
    "name": "ipython",
    "version": 3
   },
   "file_extension": ".py",
   "mimetype": "text/x-python",
   "name": "python",
   "nbconvert_exporter": "python",
   "pygments_lexer": "ipython3",
   "version": "3.8.5"
  }
 },
 "nbformat": 4,
 "nbformat_minor": 4
}
